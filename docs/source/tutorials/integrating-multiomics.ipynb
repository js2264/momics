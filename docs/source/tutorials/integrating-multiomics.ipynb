{
 "cells": [
  {
   "cell_type": "markdown",
   "metadata": {},
   "source": [
    "# Integrating multi-omics data with `momics`\n",
    "\n",
    "`momics` excels at managing multi-omics data. It allows you to store and retrieve data from a variety of sources. Here, we will see how to create, manage and query local repositories using `momics`.\n",
    "\n",
    "## Creating a local `momics` repository\n",
    "\n",
    "To create a local `momics` repository, one can use the `Momics` constructor in python."
   ]
  },
  {
   "cell_type": "code",
   "execution_count": 1,
   "metadata": {},
   "outputs": [
    {
     "name": "stderr",
     "output_type": "stream",
     "text": [
      "momics :: INFO :: 2025-03-26 17:14:44,504 :: No cloud config found for momics.Consider populating `~/.momics.ini` file with configuration settings for cloud access.\n",
      "momics :: INFO :: 2025-03-26 17:14:44,535 :: Purged yeast_CNN_data.momics\n",
      "momics :: INFO :: 2025-03-26 17:14:44,540 :: Created yeast_CNN_data.momics\n"
     ]
    }
   ],
   "source": [
    "from momics.momics import Momics\n",
    "\n",
    "## Creating repository\n",
    "Momics(\"yeast_CNN_data.momics\").remove()  # Purging existing files\n",
    "mom = Momics(\"yeast_CNN_data.momics\")  # Creating a brand new repository"
   ]
  },
  {
   "cell_type": "markdown",
   "metadata": {},
   "source": [
    "## Adding data to the repository\n",
    "\n",
    "The first step to populate a repository is to register chromosomes. To do this, a dictionary with the chromosome name as the key and the chromosome length as the value is passed to the `ingest_chroms` method. This dictionary can be created manually, e.g. from a local `fasta` file. "
   ]
  },
  {
   "cell_type": "code",
   "execution_count": 2,
   "metadata": {},
   "outputs": [
    {
     "data": {
      "text/html": [
       "<div>\n",
       "<style scoped>\n",
       "    .dataframe tbody tr th:only-of-type {\n",
       "        vertical-align: middle;\n",
       "    }\n",
       "\n",
       "    .dataframe tbody tr th {\n",
       "        vertical-align: top;\n",
       "    }\n",
       "\n",
       "    .dataframe thead th {\n",
       "        text-align: right;\n",
       "    }\n",
       "</style>\n",
       "<table border=\"1\" class=\"dataframe\">\n",
       "  <thead>\n",
       "    <tr style=\"text-align: right;\">\n",
       "      <th></th>\n",
       "      <th>chrom_index</th>\n",
       "      <th>chrom</th>\n",
       "      <th>length</th>\n",
       "    </tr>\n",
       "  </thead>\n",
       "  <tbody>\n",
       "    <tr>\n",
       "      <th>0</th>\n",
       "      <td>0</td>\n",
       "      <td>I</td>\n",
       "      <td>230218</td>\n",
       "    </tr>\n",
       "    <tr>\n",
       "      <th>1</th>\n",
       "      <td>1</td>\n",
       "      <td>II</td>\n",
       "      <td>813184</td>\n",
       "    </tr>\n",
       "    <tr>\n",
       "      <th>2</th>\n",
       "      <td>2</td>\n",
       "      <td>III</td>\n",
       "      <td>316620</td>\n",
       "    </tr>\n",
       "    <tr>\n",
       "      <th>3</th>\n",
       "      <td>3</td>\n",
       "      <td>IV</td>\n",
       "      <td>1531933</td>\n",
       "    </tr>\n",
       "    <tr>\n",
       "      <th>4</th>\n",
       "      <td>4</td>\n",
       "      <td>V</td>\n",
       "      <td>576874</td>\n",
       "    </tr>\n",
       "    <tr>\n",
       "      <th>5</th>\n",
       "      <td>5</td>\n",
       "      <td>VI</td>\n",
       "      <td>270161</td>\n",
       "    </tr>\n",
       "    <tr>\n",
       "      <th>6</th>\n",
       "      <td>6</td>\n",
       "      <td>VII</td>\n",
       "      <td>1090940</td>\n",
       "    </tr>\n",
       "    <tr>\n",
       "      <th>7</th>\n",
       "      <td>7</td>\n",
       "      <td>VIII</td>\n",
       "      <td>562643</td>\n",
       "    </tr>\n",
       "    <tr>\n",
       "      <th>8</th>\n",
       "      <td>8</td>\n",
       "      <td>IX</td>\n",
       "      <td>439888</td>\n",
       "    </tr>\n",
       "    <tr>\n",
       "      <th>9</th>\n",
       "      <td>9</td>\n",
       "      <td>X</td>\n",
       "      <td>745751</td>\n",
       "    </tr>\n",
       "    <tr>\n",
       "      <th>10</th>\n",
       "      <td>10</td>\n",
       "      <td>XI</td>\n",
       "      <td>666816</td>\n",
       "    </tr>\n",
       "    <tr>\n",
       "      <th>11</th>\n",
       "      <td>11</td>\n",
       "      <td>XII</td>\n",
       "      <td>1078177</td>\n",
       "    </tr>\n",
       "    <tr>\n",
       "      <th>12</th>\n",
       "      <td>12</td>\n",
       "      <td>XIII</td>\n",
       "      <td>924431</td>\n",
       "    </tr>\n",
       "    <tr>\n",
       "      <th>13</th>\n",
       "      <td>13</td>\n",
       "      <td>XIV</td>\n",
       "      <td>784333</td>\n",
       "    </tr>\n",
       "    <tr>\n",
       "      <th>14</th>\n",
       "      <td>14</td>\n",
       "      <td>XV</td>\n",
       "      <td>1091291</td>\n",
       "    </tr>\n",
       "    <tr>\n",
       "      <th>15</th>\n",
       "      <td>15</td>\n",
       "      <td>XVI</td>\n",
       "      <td>948066</td>\n",
       "    </tr>\n",
       "    <tr>\n",
       "      <th>16</th>\n",
       "      <td>16</td>\n",
       "      <td>Mito</td>\n",
       "      <td>85779</td>\n",
       "    </tr>\n",
       "  </tbody>\n",
       "</table>\n",
       "</div>"
      ],
      "text/plain": [
       "    chrom_index chrom   length\n",
       "0             0     I   230218\n",
       "1             1    II   813184\n",
       "2             2   III   316620\n",
       "3             3    IV  1531933\n",
       "4             4     V   576874\n",
       "5             5    VI   270161\n",
       "6             6   VII  1090940\n",
       "7             7  VIII   562643\n",
       "8             8    IX   439888\n",
       "9             9     X   745751\n",
       "10           10    XI   666816\n",
       "11           11   XII  1078177\n",
       "12           12  XIII   924431\n",
       "13           13   XIV   784333\n",
       "14           14    XV  1091291\n",
       "15           15   XVI   948066\n",
       "16           16  Mito    85779"
      ]
     },
     "execution_count": 2,
     "metadata": {},
     "output_type": "execute_result"
    }
   ],
   "source": [
    "## We will get chromosome sizes from a local fasta file.\n",
    "from pyfaidx import Fasta\n",
    "\n",
    "f = Fasta(\"/home/jaseriza/repos/momics/data/S288c.fa\")\n",
    "chrom_lengths = {chrom: len(seq) for chrom, seq in zip(f.keys(), f.values())}\n",
    "\n",
    "mom.ingest_chroms(chrom_lengths, genome_version=\"S288c\")\n",
    "mom.chroms()"
   ]
  },
  {
   "cell_type": "markdown",
   "metadata": {},
   "source": [
    "Once the chromosomes are registered, you can ingest data, e.g. genomic sequence or genomic features, to the repository."
   ]
  },
  {
   "cell_type": "code",
   "execution_count": 3,
   "metadata": {},
   "outputs": [
    {
     "name": "stderr",
     "output_type": "stream",
     "text": [
      "momics :: INFO :: 2025-03-26 17:14:47,879 :: Genome sequence ingested in 3.1272s.\n"
     ]
    },
    {
     "data": {
      "text/html": [
       "<div>\n",
       "<style scoped>\n",
       "    .dataframe tbody tr th:only-of-type {\n",
       "        vertical-align: middle;\n",
       "    }\n",
       "\n",
       "    .dataframe tbody tr th {\n",
       "        vertical-align: top;\n",
       "    }\n",
       "\n",
       "    .dataframe thead th {\n",
       "        text-align: right;\n",
       "    }\n",
       "</style>\n",
       "<table border=\"1\" class=\"dataframe\">\n",
       "  <thead>\n",
       "    <tr style=\"text-align: right;\">\n",
       "      <th></th>\n",
       "      <th>chrom_index</th>\n",
       "      <th>chrom</th>\n",
       "      <th>length</th>\n",
       "      <th>seq</th>\n",
       "    </tr>\n",
       "  </thead>\n",
       "  <tbody>\n",
       "    <tr>\n",
       "      <th>0</th>\n",
       "      <td>0</td>\n",
       "      <td>I</td>\n",
       "      <td>230218</td>\n",
       "      <td>CCACACCACA...TGTGTGTGGG</td>\n",
       "    </tr>\n",
       "    <tr>\n",
       "      <th>1</th>\n",
       "      <td>1</td>\n",
       "      <td>II</td>\n",
       "      <td>813184</td>\n",
       "      <td>AAATAGCCCT...GTGGGTGTGT</td>\n",
       "    </tr>\n",
       "    <tr>\n",
       "      <th>2</th>\n",
       "      <td>2</td>\n",
       "      <td>III</td>\n",
       "      <td>316620</td>\n",
       "      <td>CCCACACACC...GGTGTGTGTG</td>\n",
       "    </tr>\n",
       "    <tr>\n",
       "      <th>3</th>\n",
       "      <td>3</td>\n",
       "      <td>IV</td>\n",
       "      <td>1531933</td>\n",
       "      <td>ACACCACACC...TAGCTTTTGG</td>\n",
       "    </tr>\n",
       "    <tr>\n",
       "      <th>4</th>\n",
       "      <td>4</td>\n",
       "      <td>V</td>\n",
       "      <td>576874</td>\n",
       "      <td>CGTCTCCTCC...TTTTTTTTTT</td>\n",
       "    </tr>\n",
       "    <tr>\n",
       "      <th>5</th>\n",
       "      <td>5</td>\n",
       "      <td>VI</td>\n",
       "      <td>270161</td>\n",
       "      <td>GATCTCGCAA...TGGTGTGTGG</td>\n",
       "    </tr>\n",
       "    <tr>\n",
       "      <th>6</th>\n",
       "      <td>6</td>\n",
       "      <td>VII</td>\n",
       "      <td>1090940</td>\n",
       "      <td>CCACACCCAC...TTTTTTTTTT</td>\n",
       "    </tr>\n",
       "    <tr>\n",
       "      <th>7</th>\n",
       "      <td>7</td>\n",
       "      <td>VIII</td>\n",
       "      <td>562643</td>\n",
       "      <td>CCCACACACA...GTGTGTGTGG</td>\n",
       "    </tr>\n",
       "    <tr>\n",
       "      <th>8</th>\n",
       "      <td>8</td>\n",
       "      <td>IX</td>\n",
       "      <td>439888</td>\n",
       "      <td>CACACACACC...GTGTGTGTGT</td>\n",
       "    </tr>\n",
       "    <tr>\n",
       "      <th>9</th>\n",
       "      <td>9</td>\n",
       "      <td>X</td>\n",
       "      <td>745751</td>\n",
       "      <td>CCCACACACA...GTGTGGGTGT</td>\n",
       "    </tr>\n",
       "    <tr>\n",
       "      <th>10</th>\n",
       "      <td>10</td>\n",
       "      <td>XI</td>\n",
       "      <td>666816</td>\n",
       "      <td>CACCACACCC...GTGTGTGTGT</td>\n",
       "    </tr>\n",
       "    <tr>\n",
       "      <th>11</th>\n",
       "      <td>11</td>\n",
       "      <td>XII</td>\n",
       "      <td>1078177</td>\n",
       "      <td>CACACACACA...AGGGCTATTT</td>\n",
       "    </tr>\n",
       "    <tr>\n",
       "      <th>12</th>\n",
       "      <td>12</td>\n",
       "      <td>XIII</td>\n",
       "      <td>924431</td>\n",
       "      <td>CCACACACAC...GTGTGTGGGG</td>\n",
       "    </tr>\n",
       "    <tr>\n",
       "      <th>13</th>\n",
       "      <td>13</td>\n",
       "      <td>XIV</td>\n",
       "      <td>784333</td>\n",
       "      <td>CCGGCTTTCT...TGGTGTGGGT</td>\n",
       "    </tr>\n",
       "    <tr>\n",
       "      <th>14</th>\n",
       "      <td>14</td>\n",
       "      <td>XV</td>\n",
       "      <td>1091291</td>\n",
       "      <td>ACACCACACC...TGTGGTGTGT</td>\n",
       "    </tr>\n",
       "    <tr>\n",
       "      <th>15</th>\n",
       "      <td>15</td>\n",
       "      <td>XVI</td>\n",
       "      <td>948066</td>\n",
       "      <td>AAATAGCCCT...CGGTCAGAAA</td>\n",
       "    </tr>\n",
       "    <tr>\n",
       "      <th>16</th>\n",
       "      <td>16</td>\n",
       "      <td>Mito</td>\n",
       "      <td>85779</td>\n",
       "      <td>TTCATAATTA...AATATCCATA</td>\n",
       "    </tr>\n",
       "  </tbody>\n",
       "</table>\n",
       "</div>"
      ],
      "text/plain": [
       "    chrom_index chrom   length                      seq\n",
       "0             0     I   230218  CCACACCACA...TGTGTGTGGG\n",
       "1             1    II   813184  AAATAGCCCT...GTGGGTGTGT\n",
       "2             2   III   316620  CCCACACACC...GGTGTGTGTG\n",
       "3             3    IV  1531933  ACACCACACC...TAGCTTTTGG\n",
       "4             4     V   576874  CGTCTCCTCC...TTTTTTTTTT\n",
       "5             5    VI   270161  GATCTCGCAA...TGGTGTGTGG\n",
       "6             6   VII  1090940  CCACACCCAC...TTTTTTTTTT\n",
       "7             7  VIII   562643  CCCACACACA...GTGTGTGTGG\n",
       "8             8    IX   439888  CACACACACC...GTGTGTGTGT\n",
       "9             9     X   745751  CCCACACACA...GTGTGGGTGT\n",
       "10           10    XI   666816  CACCACACCC...GTGTGTGTGT\n",
       "11           11   XII  1078177  CACACACACA...AGGGCTATTT\n",
       "12           12  XIII   924431  CCACACACAC...GTGTGTGGGG\n",
       "13           13   XIV   784333  CCGGCTTTCT...TGGTGTGGGT\n",
       "14           14    XV  1091291  ACACCACACC...TGTGGTGTGT\n",
       "15           15   XVI   948066  AAATAGCCCT...CGGTCAGAAA\n",
       "16           16  Mito    85779  TTCATAATTA...AATATCCATA"
      ]
     },
     "execution_count": 3,
     "metadata": {},
     "output_type": "execute_result"
    }
   ],
   "source": [
    "## Ingesting genome reference sequence\n",
    "mom.ingest_sequence(\"/home/jaseriza/repos/momics/data/S288c.fa\")\n",
    "mom.seq()"
   ]
  },
  {
   "cell_type": "markdown",
   "metadata": {},
   "source": [
    "Coverage tracks in `bigwig` format can also be ingested to the local repository. Here again, a `<ID>:<path>` dictionary is passed to the `ingest_tracks` method."
   ]
  },
  {
   "cell_type": "code",
   "execution_count": 4,
   "metadata": {},
   "outputs": [
    {
     "name": "stderr",
     "output_type": "stream",
     "text": [
      "momics :: INFO :: 2025-03-26 17:14:49,605 :: 3 tracks ingested in 1.5888s.\n"
     ]
    },
    {
     "data": {
      "text/html": [
       "<div>\n",
       "<style scoped>\n",
       "    .dataframe tbody tr th:only-of-type {\n",
       "        vertical-align: middle;\n",
       "    }\n",
       "\n",
       "    .dataframe tbody tr th {\n",
       "        vertical-align: top;\n",
       "    }\n",
       "\n",
       "    .dataframe thead th {\n",
       "        text-align: right;\n",
       "    }\n",
       "</style>\n",
       "<table border=\"1\" class=\"dataframe\">\n",
       "  <thead>\n",
       "    <tr style=\"text-align: right;\">\n",
       "      <th></th>\n",
       "      <th>idx</th>\n",
       "      <th>label</th>\n",
       "      <th>path</th>\n",
       "    </tr>\n",
       "  </thead>\n",
       "  <tbody>\n",
       "    <tr>\n",
       "      <th>0</th>\n",
       "      <td>0</td>\n",
       "      <td>atac</td>\n",
       "      <td>/home/jaseriza/repos/momics/data/S288c_atac.bw</td>\n",
       "    </tr>\n",
       "    <tr>\n",
       "      <th>1</th>\n",
       "      <td>1</td>\n",
       "      <td>scc1</td>\n",
       "      <td>/home/jaseriza/repos/momics/data/S288c_scc1.bw</td>\n",
       "    </tr>\n",
       "    <tr>\n",
       "      <th>2</th>\n",
       "      <td>2</td>\n",
       "      <td>mnase</td>\n",
       "      <td>/home/jaseriza/repos/momics/data/S288c_mnase.bw</td>\n",
       "    </tr>\n",
       "  </tbody>\n",
       "</table>\n",
       "</div>"
      ],
      "text/plain": [
       "   idx  label                                             path\n",
       "0    0   atac   /home/jaseriza/repos/momics/data/S288c_atac.bw\n",
       "1    1   scc1   /home/jaseriza/repos/momics/data/S288c_scc1.bw\n",
       "2    2  mnase  /home/jaseriza/repos/momics/data/S288c_mnase.bw"
      ]
     },
     "execution_count": 4,
     "metadata": {},
     "output_type": "execute_result"
    }
   ],
   "source": [
    "## Ingesting genome-wide tracks\n",
    "mom.ingest_tracks(\n",
    "    {\n",
    "        \"atac\": \"/home/jaseriza/repos/momics/data/S288c_atac.bw\",\n",
    "        # \"rna\": \"/home/jaseriza/repos/momics/data/S288c_rna.bw\",\n",
    "        \"scc1\": \"/home/jaseriza/repos/momics/data/S288c_scc1.bw\",\n",
    "        \"mnase\": \"/home/jaseriza/repos/momics/data/S288c_mnase.bw\",\n",
    "    }\n",
    ")\n",
    "mom.tracks()"
   ]
  },
  {
   "cell_type": "markdown",
   "metadata": {},
   "source": [
    "## Querying data from the repository\n",
    "\n",
    "Now that we have added data to the repository, we can query specific genomic ranges using `MomicsQuery` objects. "
   ]
  },
  {
   "cell_type": "code",
   "execution_count": 5,
   "metadata": {},
   "outputs": [
    {
     "data": {
      "text/html": [
       "<div>\n",
       "<style scoped>\n",
       "    .dataframe tbody tr th:only-of-type {\n",
       "        vertical-align: middle;\n",
       "    }\n",
       "\n",
       "    .dataframe tbody tr th {\n",
       "        vertical-align: top;\n",
       "    }\n",
       "\n",
       "    .dataframe thead th {\n",
       "        text-align: right;\n",
       "    }\n",
       "</style>\n",
       "<table border=\"1\" class=\"dataframe\">\n",
       "  <thead>\n",
       "    <tr style=\"text-align: right;\">\n",
       "      <th></th>\n",
       "      <th>Chromosome</th>\n",
       "      <th>Start</th>\n",
       "      <th>End</th>\n",
       "    </tr>\n",
       "  </thead>\n",
       "  <tbody>\n",
       "    <tr>\n",
       "      <th>0</th>\n",
       "      <td>I</td>\n",
       "      <td>0</td>\n",
       "      <td>1000</td>\n",
       "    </tr>\n",
       "    <tr>\n",
       "      <th>1</th>\n",
       "      <td>I</td>\n",
       "      <td>1000</td>\n",
       "      <td>2000</td>\n",
       "    </tr>\n",
       "    <tr>\n",
       "      <th>2</th>\n",
       "      <td>I</td>\n",
       "      <td>2000</td>\n",
       "      <td>3000</td>\n",
       "    </tr>\n",
       "    <tr>\n",
       "      <th>3</th>\n",
       "      <td>I</td>\n",
       "      <td>3000</td>\n",
       "      <td>4000</td>\n",
       "    </tr>\n",
       "    <tr>\n",
       "      <th>4</th>\n",
       "      <td>I</td>\n",
       "      <td>4000</td>\n",
       "      <td>5000</td>\n",
       "    </tr>\n",
       "    <tr>\n",
       "      <th>...</th>\n",
       "      <td>...</td>\n",
       "      <td>...</td>\n",
       "      <td>...</td>\n",
       "    </tr>\n",
       "    <tr>\n",
       "      <th>12143</th>\n",
       "      <td>XVI</td>\n",
       "      <td>943000</td>\n",
       "      <td>944000</td>\n",
       "    </tr>\n",
       "    <tr>\n",
       "      <th>12144</th>\n",
       "      <td>XVI</td>\n",
       "      <td>944000</td>\n",
       "      <td>945000</td>\n",
       "    </tr>\n",
       "    <tr>\n",
       "      <th>12145</th>\n",
       "      <td>XVI</td>\n",
       "      <td>945000</td>\n",
       "      <td>946000</td>\n",
       "    </tr>\n",
       "    <tr>\n",
       "      <th>12146</th>\n",
       "      <td>XVI</td>\n",
       "      <td>946000</td>\n",
       "      <td>947000</td>\n",
       "    </tr>\n",
       "    <tr>\n",
       "      <th>12147</th>\n",
       "      <td>XVI</td>\n",
       "      <td>947000</td>\n",
       "      <td>948000</td>\n",
       "    </tr>\n",
       "  </tbody>\n",
       "</table>\n",
       "<p>12148 rows × 3 columns</p>\n",
       "</div>"
      ],
      "text/plain": [
       "+--------------+-----------+-----------+\n",
       "| Chromosome   | Start     | End       |\n",
       "| (category)   | (int64)   | (int64)   |\n",
       "|--------------+-----------+-----------|\n",
       "| I            | 0         | 1000      |\n",
       "| I            | 1000      | 2000      |\n",
       "| I            | 2000      | 3000      |\n",
       "| I            | 3000      | 4000      |\n",
       "| ...          | ...       | ...       |\n",
       "| XVI          | 944000    | 945000    |\n",
       "| XVI          | 945000    | 946000    |\n",
       "| XVI          | 946000    | 947000    |\n",
       "| XVI          | 947000    | 948000    |\n",
       "+--------------+-----------+-----------+\n",
       "Unstranded PyRanges object has 12,148 rows and 3 columns from 17 chromosomes.\n",
       "For printing, the PyRanges was sorted on Chromosome."
      ]
     },
     "execution_count": 5,
     "metadata": {},
     "output_type": "execute_result"
    }
   ],
   "source": [
    "## We define non-overlapping windows of 1kb over the entire S288c genome\n",
    "windows = mom.bins(1000, cut_last_bin_out=True)\n",
    "windows"
   ]
  },
  {
   "cell_type": "code",
   "execution_count": null,
   "metadata": {},
   "outputs": [
    {
     "ename": "ValueError",
     "evalue": "Track rna not found in the repository.",
     "output_type": "error",
     "traceback": [
      "\u001b[0;31m---------------------------------------------------------------------------\u001b[0m",
      "\u001b[0;31mValueError\u001b[0m                                Traceback (most recent call last)",
      "Cell \u001b[0;32mIn[6], line 5\u001b[0m\n\u001b[1;32m      2\u001b[0m \u001b[38;5;28;01mfrom\u001b[39;00m\u001b[38;5;250m \u001b[39m\u001b[38;5;21;01mmomics\u001b[39;00m\u001b[38;5;21;01m.\u001b[39;00m\u001b[38;5;21;01mquery\u001b[39;00m\u001b[38;5;250m \u001b[39m\u001b[38;5;28;01mimport\u001b[39;00m MomicsQuery\n\u001b[1;32m      4\u001b[0m q \u001b[38;5;241m=\u001b[39m MomicsQuery(mom, windows)\n\u001b[0;32m----> 5\u001b[0m \u001b[43mq\u001b[49m\u001b[38;5;241;43m.\u001b[39;49m\u001b[43mquery_tracks\u001b[49m\u001b[43m(\u001b[49m\u001b[43mtracks\u001b[49m\u001b[38;5;241;43m=\u001b[39;49m\u001b[43m[\u001b[49m\u001b[38;5;124;43m\"\u001b[39;49m\u001b[38;5;124;43matac\u001b[39;49m\u001b[38;5;124;43m\"\u001b[39;49m\u001b[43m,\u001b[49m\u001b[43m \u001b[49m\u001b[38;5;124;43m\"\u001b[39;49m\u001b[38;5;124;43mrna\u001b[39;49m\u001b[38;5;124;43m\"\u001b[39;49m\u001b[43m]\u001b[49m\u001b[43m,\u001b[49m\u001b[43m \u001b[49m\u001b[43msilent\u001b[49m\u001b[38;5;241;43m=\u001b[39;49m\u001b[38;5;28;43;01mFalse\u001b[39;49;00m\u001b[43m)\u001b[49m\n\u001b[1;32m      6\u001b[0m \u001b[38;5;124m\"\u001b[39m\u001b[38;5;124mATAC coverage over the first range queried: \u001b[39m\u001b[38;5;124m\"\u001b[39m \u001b[38;5;241m+\u001b[39m \u001b[38;5;28mstr\u001b[39m(q\u001b[38;5;241m.\u001b[39mcoverage[\u001b[38;5;124m\"\u001b[39m\u001b[38;5;124matac\u001b[39m\u001b[38;5;124m\"\u001b[39m][\u001b[38;5;124m\"\u001b[39m\u001b[38;5;124mI:0-1000\u001b[39m\u001b[38;5;124m\"\u001b[39m][\u001b[38;5;241m0\u001b[39m:\u001b[38;5;241m5\u001b[39m]) \u001b[38;5;241m+\u001b[39m \u001b[38;5;124m\"\u001b[39m\u001b[38;5;124m...\u001b[39m\u001b[38;5;124m\"\u001b[39m\n",
      "File \u001b[0;32m~/repos/momics/src/momics/query.py:147\u001b[0m, in \u001b[0;36mMomicsQuery.query_tracks\u001b[0;34m(self, threads, tracks, silent)\u001b[0m\n\u001b[1;32m    145\u001b[0m             logger\u001b[38;5;241m.\u001b[39mdebug(\u001b[38;5;124m\"\u001b[39m\u001b[38;5;124m'\u001b[39m\u001b[38;5;124mnucleotide\u001b[39m\u001b[38;5;124m'\u001b[39m\u001b[38;5;124m track is not a coverage track.\u001b[39m\u001b[38;5;124m\"\u001b[39m)\n\u001b[1;32m    146\u001b[0m         \u001b[38;5;28;01melif\u001b[39;00m track \u001b[38;5;129;01mnot\u001b[39;00m \u001b[38;5;129;01min\u001b[39;00m attrs:\n\u001b[0;32m--> 147\u001b[0m             \u001b[38;5;28;01mraise\u001b[39;00m \u001b[38;5;167;01mValueError\u001b[39;00m(\u001b[38;5;124mf\u001b[39m\u001b[38;5;124m\"\u001b[39m\u001b[38;5;124mTrack \u001b[39m\u001b[38;5;132;01m{\u001b[39;00mtrack\u001b[38;5;132;01m}\u001b[39;00m\u001b[38;5;124m not found in the repository.\u001b[39m\u001b[38;5;124m\"\u001b[39m)\n\u001b[1;32m    148\u001b[0m     attrs \u001b[38;5;241m=\u001b[39m [tr \u001b[38;5;28;01mfor\u001b[39;00m tr \u001b[38;5;129;01min\u001b[39;00m tracks \u001b[38;5;28;01mif\u001b[39;00m tr \u001b[38;5;241m!=\u001b[39m \u001b[38;5;124m\"\u001b[39m\u001b[38;5;124mnucleotide\u001b[39m\u001b[38;5;124m\"\u001b[39m]\n\u001b[1;32m    150\u001b[0m \u001b[38;5;66;03m# Check memory available and warn if it's not enough\u001b[39;00m\n",
      "\u001b[0;31mValueError\u001b[0m: Track rna not found in the repository."
     ]
    }
   ],
   "source": [
    "## Next, we build a query object to query specific tracks from the momics object\n",
    "from momics.query import MomicsQuery\n",
    "\n",
    "q = MomicsQuery(mom, windows)\n",
    "q.query_tracks(tracks=[\"atac\", \"scc1\"], silent=False)\n",
    "\"ATAC coverage over the first range queried: \" + str(q.coverage[\"atac\"][\"I:0-1000\"][0:5]) + \"...\""
   ]
  },
  {
   "cell_type": "code",
   "execution_count": null,
   "metadata": {},
   "outputs": [
    {
     "name": "stderr",
     "output_type": "stream",
     "text": [
      "momics :: INFO :: 2025-03-26 16:50:29,200 :: Query completed in 0.4867s.\n"
     ]
    },
    {
     "data": {
      "text/plain": [
       "'Genome sequence over the first range queried: CCACACCACA...'"
      ]
     },
     "execution_count": 7,
     "metadata": {},
     "output_type": "execute_result"
    }
   ],
   "source": [
    "## We can also query sequences over the windows\n",
    "q.query_sequence(silent=False)\n",
    "\"Genome sequence over the first range queried: \" + str(q.seq[\"nucleotide\"][\"I:0-1000\"][0:10]) + \"...\""
   ]
  },
  {
   "cell_type": "markdown",
   "metadata": {},
   "source": [
    "## Extracting data from the repository\n",
    "\n",
    "A `momics` repository can also be used to store and retrieve data. This data can be extracted from the repository and saved to a local file. "
   ]
  },
  {
   "cell_type": "code",
   "execution_count": null,
   "metadata": {},
   "outputs": [
    {
     "data": {
      "text/plain": [
       "{'I': array([1.91385 , 2.73407 , 2.73407 , ..., 0.820222, 0.820222, 0.273407],\n",
       "       dtype=float32),\n",
       " 'II': array([1.09363, 1.09363, 1.09363, ...,     nan,     nan,     nan],\n",
       "       dtype=float32),\n",
       " 'III': array([nan, nan, nan, ..., nan, nan, nan], dtype=float32),\n",
       " 'IV': array([     nan, 0.820222, 1.36704 , ...,      nan,      nan,      nan],\n",
       "       dtype=float32),\n",
       " 'V': array([nan, nan, nan, ..., nan, nan, nan], dtype=float32),\n",
       " 'VI': array([     nan,      nan,      nan, ..., 2.46067 , 2.46067 , 0.546815],\n",
       "       dtype=float32),\n",
       " 'VII': array([0.820222, 1.36704 , 1.36704 , ...,      nan,      nan,      nan],\n",
       "       dtype=float32),\n",
       " 'VIII': array([nan, nan, nan, ..., nan, nan, nan], dtype=float32),\n",
       " 'IX': array([3.5543 , 4.37452, 5.74156, ...,     nan,     nan,     nan],\n",
       "       dtype=float32),\n",
       " 'X': array([     nan,      nan,      nan, ..., 3.5543  , 2.46067 , 0.546815],\n",
       "       dtype=float32),\n",
       " 'XI': array([2.46067 , 2.46067 , 2.73407 , ..., 0.273407, 0.273407, 0.273407],\n",
       "       dtype=float32),\n",
       " 'XII': array([0.546815, 0.546815, 0.546815, ...,      nan,      nan,      nan],\n",
       "       dtype=float32),\n",
       " 'XIII': array([     nan,      nan,      nan, ..., 0.273407, 0.273407,      nan],\n",
       "       dtype=float32),\n",
       " 'XIV': array([     nan,      nan,      nan, ..., 0.273407, 0.273407, 0.273407],\n",
       "       dtype=float32),\n",
       " 'XV': array([2.46067 , 4.92133 , 5.19474 , ..., 1.91385 , 1.64044 , 0.546815],\n",
       "       dtype=float32),\n",
       " 'XVI': array([    nan,     nan,     nan, ..., 1.36704, 1.36704, 1.09363],\n",
       "       dtype=float32),\n",
       " 'Mito': array([0.546815, 0.820222, 0.820222, ..., 0.273407, 0.273407, 0.273407],\n",
       "       dtype=float32)}"
      ]
     },
     "execution_count": 8,
     "metadata": {},
     "output_type": "execute_result"
    }
   ],
   "source": [
    "atac = mom.tracks(label=\"atac\")\n",
    "atac"
   ]
  },
  {
   "cell_type": "code",
   "execution_count": null,
   "metadata": {},
   "outputs": [
    {
     "data": {
      "text/plain": [
       "'File saved to: extracted_atac_track.bw'"
      ]
     },
     "execution_count": 9,
     "metadata": {},
     "output_type": "execute_result"
    }
   ],
   "source": [
    "from momics import utils as mutils\n",
    "\n",
    "path = mutils.dict_to_bigwig(atac, \"extracted_atac_track.bw\")\n",
    "\"File saved to: \" + path.name"
   ]
  },
  {
   "cell_type": "markdown",
   "metadata": {},
   "source": [
    "## Deleting a repository \n",
    "\n",
    "To delete a repository, you can use the `remove()` method on the repository object. This will delete the repository and all its contents. Now that this notebook is complete, we can delete the repository :)"
   ]
  },
  {
   "cell_type": "code",
   "execution_count": null,
   "metadata": {},
   "outputs": [],
   "source": [
    "# mom.remove()"
   ]
  }
 ],
 "metadata": {
  "kernelspec": {
   "display_name": "momics",
   "language": "python",
   "name": "python3"
  },
  "language_info": {
   "codemirror_mode": {
    "name": "ipython",
    "version": 3
   },
   "file_extension": ".py",
   "mimetype": "text/x-python",
   "name": "python",
   "nbconvert_exporter": "python",
   "pygments_lexer": "ipython3",
   "version": "3.10.16"
  }
 },
 "nbformat": 4,
 "nbformat_minor": 2
}
