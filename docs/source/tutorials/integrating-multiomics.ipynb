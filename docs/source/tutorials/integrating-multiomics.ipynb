{
 "cells": [
  {
   "cell_type": "markdown",
   "metadata": {},
   "source": [
    "# Integrating multi-omics data with `momics`\n",
    "\n",
    "`momics` excels at managing multi-omics data. It allows you to store and retrieve data from a variety of sources. Here, we will see how to create, manage and query local repositories using `momics`.\n",
    "\n",
    "## Creating a local `momics` repository\n",
    "\n",
    "To create a local `momics` repository, one can use the `Momics` constructor in python."
   ]
  },
  {
   "cell_type": "code",
   "execution_count": null,
   "metadata": {},
   "outputs": [],
   "source": [
    "from momics.momics import Momics\n",
    "\n",
    "## Creating repository\n",
    "Momics(\"yeast_CNN_data.momics\").remove()  # Purging existing files\n",
    "mom = Momics(\"yeast_CNN_data.momics\")  # Creating a brand new repository"
   ]
  },
  {
   "cell_type": "markdown",
   "metadata": {},
   "source": [
    "## Adding data to the repository\n",
    "\n",
    "The first step to populate a repository is to register chromosomes. To do this, a dictionary with the chromosome name as the key and the chromosome length as the value is passed to the `ingest_chroms` method. This dictionary can be created manually, e.g. from a local `fasta` file. "
   ]
  },
  {
   "cell_type": "code",
   "execution_count": null,
   "metadata": {},
   "outputs": [],
   "source": [
    "## We will get chromosome sizes from a local fasta file.\n",
    "from pyfaidx import Fasta\n",
    "\n",
    "f = Fasta(\"/home/jaseriza/repos/momics/data/S288c.fa\")\n",
    "chrom_lengths = {chrom: len(seq) for chrom, seq in zip(f.keys(), f.values())}\n",
    "\n",
    "mom.ingest_chroms(chrom_lengths, genome_version=\"S288c\")\n",
    "mom.chroms()"
   ]
  },
  {
   "cell_type": "markdown",
   "metadata": {},
   "source": [
    "Once the chromosomes are registered, you can ingest data, e.g. genomic sequence or genomic features, to the repository."
   ]
  },
  {
   "cell_type": "code",
   "execution_count": null,
   "metadata": {},
   "outputs": [],
   "source": [
    "## Ingesting genome reference sequence\n",
    "mom.ingest_sequence(\"/home/jaseriza/repos/momics/data/S288c.fa\")\n",
    "mom.seq()"
   ]
  },
  {
   "cell_type": "markdown",
   "metadata": {},
   "source": [
    "Coverage tracks in `bigwig` format can also be ingested to the local repository. Here again, a `<ID>:<path>` dictionary is passed to the `ingest_tracks` method."
   ]
  },
  {
   "cell_type": "code",
   "execution_count": null,
   "metadata": {},
   "outputs": [],
   "source": [
    "## Ingesting genome-wide tracks\n",
    "mom.ingest_tracks(\n",
    "    {\n",
    "        \"atac\": \"/home/jaseriza/repos/momics/data/S288c_atac.bw\",\n",
    "        # \"rna\": \"/home/jaseriza/repos/momics/data/S288c_rna.bw\",\n",
    "        \"scc1\": \"/home/jaseriza/repos/momics/data/S288c_scc1.bw\",\n",
    "        \"mnase\": \"/home/jaseriza/repos/momics/data/S288c_mnase.bw\",\n",
    "    }\n",
    ")\n",
    "mom.tracks()"
   ]
  },
  {
   "cell_type": "markdown",
   "metadata": {},
   "source": [
    "## Querying data from the repository\n",
    "\n",
    "Now that we have added data to the repository, we can query specific genomic ranges using `MomicsQuery` objects. "
   ]
  },
  {
   "cell_type": "code",
   "execution_count": null,
   "metadata": {},
   "outputs": [],
   "source": [
    "## We define non-overlapping windows of 1kb over the entire S288c genome\n",
    "windows = mom.bins(1000, cut_last_bin_out=True)\n",
    "windows"
   ]
  },
  {
   "cell_type": "code",
   "execution_count": null,
   "metadata": {},
   "outputs": [],
   "source": [
    "## Next, we build a query object to query specific tracks from the momics object\n",
    "from momics.query import MomicsQuery\n",
    "\n",
    "q = MomicsQuery(mom, windows)\n",
    "q.query_tracks(tracks=[\"atac\", \"scc1\"], silent=False)\n",
    "\"ATAC coverage over the first range queried: \" + str(q.coverage[\"atac\"][\"I:0-1000\"][0:5]) + \"...\""
   ]
  },
  {
   "cell_type": "code",
   "execution_count": null,
   "metadata": {},
   "outputs": [],
   "source": [
    "## We can also query sequences over the windows\n",
    "q.query_sequence(silent=False)\n",
    "\"Genome sequence over the first range queried: \" + str(q.seq[\"nucleotide\"][\"I:0-1000\"][0:10]) + \"...\""
   ]
  },
  {
   "cell_type": "markdown",
   "metadata": {},
   "source": [
    "## Extracting data from the repository\n",
    "\n",
    "A `momics` repository can also be used to store and retrieve data. This data can be extracted from the repository and saved to a local file. "
   ]
  },
  {
   "cell_type": "code",
   "execution_count": null,
   "metadata": {},
   "outputs": [],
   "source": [
    "atac = mom.tracks(label=\"atac\")\n",
    "atac"
   ]
  },
  {
   "cell_type": "code",
   "execution_count": null,
   "metadata": {},
   "outputs": [],
   "source": [
    "from momics import utils as mutils\n",
    "\n",
    "path = mutils.dict_to_bigwig(atac, \"extracted_atac_track.bw\")\n",
    "\"File saved to: \" + path.name"
   ]
  },
  {
   "cell_type": "markdown",
   "metadata": {},
   "source": [
    "## Deleting a repository \n",
    "\n",
    "To delete a repository, you can use the `remove()` method on the repository object. This will delete the repository and all its contents. Now that this notebook is complete, we can delete the repository :)"
   ]
  },
  {
   "cell_type": "code",
   "execution_count": null,
   "metadata": {},
   "outputs": [],
   "source": [
    "# mom.remove()"
   ]
  }
 ],
 "metadata": {
  "kernelspec": {
   "display_name": "momics",
   "language": "python",
   "name": "python3"
  },
  "language_info": {
   "codemirror_mode": {
    "name": "ipython",
    "version": 3
   },
   "file_extension": ".py",
   "mimetype": "text/x-python",
   "name": "python",
   "nbconvert_exporter": "python",
   "pygments_lexer": "ipython3",
   "version": "3.10.16"
  }
 },
 "nbformat": 4,
 "nbformat_minor": 2
}
