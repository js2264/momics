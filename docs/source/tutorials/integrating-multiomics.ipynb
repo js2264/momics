{
 "cells": [
  {
   "cell_type": "markdown",
   "metadata": {},
   "source": [
    "# Integrating multi-omics data with `momics`\n",
    "\n",
    "`momics` excels at managing multi-omics data. It allows you to store and retrieve data from a variety of sources. Here, we will see how to create, manage and query local repositories using `momics`.\n",
    "\n",
    "## Creating a local `momics` repository"
   ]
  },
  {
   "cell_type": "code",
   "execution_count": 1,
   "metadata": {},
   "outputs": [
    {
     "name": "stderr",
     "output_type": "stream",
     "text": [
      "momics :: INFO :: 2025-03-17 20:08:03,233 :: Purged yeast_CNN_data.momics\n",
      "momics :: INFO :: 2025-03-17 20:08:03,267 :: Created yeast_CNN_data.momics\n",
      "momics :: INFO :: 2025-03-17 20:08:09,674 :: Genome sequence ingested in 6.3411s.\n",
      "momics :: INFO :: 2025-03-17 20:08:13,481 :: 2 tracks ingested in 3.8061s.\n"
     ]
    },
    {
     "data": {
      "text/plain": [
       "<momics.momics.Momics at 0x7f4803531dc0>"
      ]
     },
     "execution_count": 1,
     "metadata": {},
     "output_type": "execute_result"
    }
   ],
   "source": [
    "from momics.momics import Momics\n",
    "\n",
    "## Creating repository\n",
    "Momics(\"yeast_CNN_data.momics\").remove()  # Purging existing files\n",
    "repo = Momics(\"yeast_CNN_data.momics\")  # Creating a brand new repository\n",
    "\n",
    "## Registering chromosome sizes\n",
    "## We will get chromosome sizes from a local fasta file.\n",
    "from pyfaidx import Fasta\n",
    "\n",
    "f = Fasta(\"/pasteur/appa/scratch/jaseriza/momics_data/S288c.fa\")\n",
    "chrom_lengths = {chrom: len(seq) for chrom, seq in zip(f.keys(), f.values())}\n",
    "\n",
    "repo.ingest_chroms(chrom_lengths, genome_version=\"S288c\")\n",
    "repo.chroms()\n",
    "\n",
    "## Registering sequence\n",
    "repo.ingest_sequence(f.filename)\n",
    "\n",
    "## Registering genomic tracks\n",
    "repo.ingest_tracks(\n",
    "    {\n",
    "        \"ATAC\": \"/pasteur/appa/scratch/jaseriza/momics_data/S288c_atac.bw\",\n",
    "        \"MNase\": \"/pasteur/appa/scratch/jaseriza/momics_data/S288c_mnase.bw\",\n",
    "    }\n",
    ")"
   ]
  }
 ],
 "metadata": {
  "kernelspec": {
   "display_name": "Python 3",
   "language": "python",
   "name": "python3"
  },
  "language_info": {
   "codemirror_mode": {
    "name": "ipython",
    "version": 3
   },
   "file_extension": ".py",
   "mimetype": "text/x-python",
   "name": "python",
   "nbconvert_exporter": "python",
   "pygments_lexer": "ipython3",
   "version": "3.12.0"
  }
 },
 "nbformat": 4,
 "nbformat_minor": 2
}
