{
 "cells": [
  {
   "cell_type": "markdown",
   "metadata": {},
   "source": [
    "# Managing cloud-hosted `momics` repositories\n",
    "\n",
    "`momics` provides native support for cloud-hosted repositories. This means that you can use `momics` to create repositories directly on cloud storage services like S3, GCP or Azure buckets. Here, we will see how to create, manage and query cloud-hosted repositories using `momics`.\n",
    "\n",
    "## Prerequisites\n",
    "\n",
    "To use cloud-hosted repositories, you need to have the following:\n",
    "\n",
    "1. A cloud storage service account with the necessary permissions to create and manage buckets.\n",
    "2. The necessary credentials to access the cloud storage service. This could be in the form of a service account key, or a token.\n",
    "3. The `momics` package installed in your Python environment.\n",
    "\n",
    "We will use an S3 bucket for demonstration purposes. You can use the same steps for other cloud storage services as well."
   ]
  },
  {
   "cell_type": "markdown",
   "metadata": {},
   "source": [
    "## Creating a `momics` repository on an S3 bucket\n",
    "\n",
    "The first step to create a S3-hosted repository is set up the configuration that `momics` will use. For S3, you need to provide the following information:\n",
    "\n",
    "1. The access key and secret key for the S3 account.\n",
    "2. The region where the bucket is located.\n",
    "3. The name of a bucket where the repository will be created. You will need authorization to read from and write to this bucket."
   ]
  },
  {
   "cell_type": "code",
   "execution_count": 2,
   "metadata": {},
   "outputs": [],
   "source": [
    "from momics import config as mconfig\n",
    "import os\n",
    "\n",
    "s3_access_key_id = os.environ.get(\"AWS_ACCESS_KEY_ID\")\n",
    "s3_secret_access_key = os.environ.get(\"AWS_SECRET_ACCESS_KEY\")\n",
    "\n",
    "s3_cfg = mconfig.S3Config(region=\"eu-west-3\", access_key_id=s3_access_key_id, secret_access_key=s3_secret_access_key)\n",
    "momics_cfg = mconfig.MomicsConfig(s3=s3_cfg)\n",
    "momics_cfg.cfg"
   ]
  },
  {
   "cell_type": "code",
   "execution_count": 3,
   "metadata": {},
   "outputs": [
    {
     "data": {
      "text/plain": [
       "'The registered S3 secret access key starts with: 2FgOW+IT5e...'"
      ]
     },
     "execution_count": 3,
     "metadata": {},
     "output_type": "execute_result"
    }
   ],
   "source": [
    "\"The registered S3 secret access key starts with: \" + momics_cfg.cfg.get(\"vfs.s3.aws_secret_access_key\")[0:10] + \"...\""
   ]
  },
  {
   "cell_type": "markdown",
   "metadata": {},
   "source": [
    "Now that the S3 configuration is set up, you can create a `momics` repository as you would do locally. The only two differences is that you need to 1) use the `s3://<your_bucket>` protocol and 2) provide the S3 configuration to the `Repository` object. "
   ]
  },
  {
   "cell_type": "code",
   "execution_count": 14,
   "metadata": {},
   "outputs": [
    {
     "name": "stderr",
     "output_type": "stream",
     "text": [
      "momics :: INFO :: 2025-01-29 17:30:57,759 :: Created s3://momics-test/my_repo2.mom\n"
     ]
    }
   ],
   "source": [
    "from momics.momics import Momics\n",
    "\n",
    "mom = Momics(\"s3://momics/my_repo.mom\", config=momics_cfg)"
   ]
  },
  {
   "cell_type": "markdown",
   "metadata": {},
   "source": [
    "If the repository does not exist, it will be automatically created, and a log message will be displayed. If the repository already exists, it will be opened and you can directly interact with it. \n",
    "\n",
    "Now that we created a repository, let's try and fetch chromosome sizes from it!"
   ]
  },
  {
   "cell_type": "code",
   "execution_count": 15,
   "metadata": {},
   "outputs": [
    {
     "data": {
      "text/plain": [
       "'Number of chromosomes: 0'"
      ]
     },
     "execution_count": 15,
     "metadata": {},
     "output_type": "execute_result"
    }
   ],
   "source": [
    "mom.chroms()\n",
    "\"Number of chromosomes: \" + str(len(mom.chroms()))"
   ]
  },
  {
   "cell_type": "markdown",
   "metadata": {},
   "source": [
    "We can see that chromosomes have not been added to the repository yet. This is because we have just created the repository and it is empty. In the next section, we will see how to add data to the repository."
   ]
  },
  {
   "cell_type": "markdown",
   "metadata": {},
   "source": [
    "**Note:** \n",
    "\n",
    "Note that we do not provide the `config` argument to the `chroms()` method. In fact, the config is stored in the variable itself. "
   ]
  },
  {
   "cell_type": "code",
   "execution_count": 6,
   "metadata": {},
   "outputs": [
    {
     "data": {
      "text/plain": [
       "<momics.config.MomicsConfig at 0x7c900830ab00>"
      ]
     },
     "execution_count": 6,
     "metadata": {},
     "output_type": "execute_result"
    }
   ],
   "source": [
    "mom.cfg"
   ]
  },
  {
   "cell_type": "markdown",
   "metadata": {},
   "source": [
    "On top of storing the secrets required to access the cloud storage service, the `MomicsConfig` object extends the `TileDB` configuration object. This means that you can leverage additional TileDB configuration functionalities to interact with your repository! A notable example is the TileDB virtual file system (VFS) implementation which allows you to interact with files and directories located on a cloud storage services in a seamless manner."
   ]
  },
  {
   "cell_type": "code",
   "execution_count": 7,
   "metadata": {},
   "outputs": [
    {
     "data": {
      "text/plain": [
       "['s3://momics-test/my_repo2.mom/__tiledb_group.tdb',\n",
       " 's3://momics-test/my_repo2.mom/annotations/__tiledb_group.tdb',\n",
       " 's3://momics-test/my_repo2.mom/coverage/__tiledb_group.tdb',\n",
       " 's3://momics-test/my_repo2.mom/genome/__tiledb_group.tdb',\n",
       " 's3://momics-test/my_repo2.mom/genome/chroms.tdb/__commits/__1738168070623_1738168070623_708cec572083e220509251572f7a09d5_22.wrt',\n",
       " 's3://momics-test/my_repo2.mom/genome/chroms.tdb/__fragments/__1738168070623_1738168070623_708cec572083e220509251572f7a09d5_22/__fragment_metadata.tdb',\n",
       " 's3://momics-test/my_repo2.mom/genome/chroms.tdb/__fragments/__1738168070623_1738168070623_708cec572083e220509251572f7a09d5_22/a0.tdb',\n",
       " 's3://momics-test/my_repo2.mom/genome/chroms.tdb/__fragments/__1738168070623_1738168070623_708cec572083e220509251572f7a09d5_22/a0_var.tdb',\n",
       " 's3://momics-test/my_repo2.mom/genome/chroms.tdb/__fragments/__1738168070623_1738168070623_708cec572083e220509251572f7a09d5_22/a1.tdb',\n",
       " 's3://momics-test/my_repo2.mom/genome/chroms.tdb/__meta/__1738168070622_1738168070622_6a57889744917d076f2fe5cd8fd72ece',\n",
       " 's3://momics-test/my_repo2.mom/genome/chroms.tdb/__schema/__1738168070398_1738168070398_1437dcf2eab3bf37447b083b1b196fa1']"
      ]
     },
     "execution_count": 7,
     "metadata": {},
     "output_type": "execute_result"
    }
   ],
   "source": [
    "mom.cfg.vfs.ls_recursive(mom.path)"
   ]
  },
  {
   "cell_type": "markdown",
   "metadata": {},
   "source": [
    "So far, the repository does not contain any data. "
   ]
  },
  {
   "cell_type": "markdown",
   "metadata": {},
   "source": [
    "## Adding data to the repository\n",
    "\n",
    "Just like local repositories, populating a cloud-hosted repository has to start with registering chromosomes. "
   ]
  },
  {
   "cell_type": "code",
   "execution_count": null,
   "metadata": {},
   "outputs": [
    {
     "data": {
      "text/html": [
       "<div>\n",
       "<style scoped>\n",
       "    .dataframe tbody tr th:only-of-type {\n",
       "        vertical-align: middle;\n",
       "    }\n",
       "\n",
       "    .dataframe tbody tr th {\n",
       "        vertical-align: top;\n",
       "    }\n",
       "\n",
       "    .dataframe thead th {\n",
       "        text-align: right;\n",
       "    }\n",
       "</style>\n",
       "<table border=\"1\" class=\"dataframe\">\n",
       "  <thead>\n",
       "    <tr style=\"text-align: right;\">\n",
       "      <th></th>\n",
       "      <th>chrom_index</th>\n",
       "      <th>chrom</th>\n",
       "      <th>length</th>\n",
       "    </tr>\n",
       "  </thead>\n",
       "  <tbody>\n",
       "    <tr>\n",
       "      <th>0</th>\n",
       "      <td>0</td>\n",
       "      <td>I</td>\n",
       "      <td>230218</td>\n",
       "    </tr>\n",
       "    <tr>\n",
       "      <th>1</th>\n",
       "      <td>1</td>\n",
       "      <td>II</td>\n",
       "      <td>813184</td>\n",
       "    </tr>\n",
       "    <tr>\n",
       "      <th>2</th>\n",
       "      <td>2</td>\n",
       "      <td>III</td>\n",
       "      <td>316620</td>\n",
       "    </tr>\n",
       "    <tr>\n",
       "      <th>3</th>\n",
       "      <td>3</td>\n",
       "      <td>IV</td>\n",
       "      <td>1531933</td>\n",
       "    </tr>\n",
       "    <tr>\n",
       "      <th>4</th>\n",
       "      <td>4</td>\n",
       "      <td>V</td>\n",
       "      <td>576874</td>\n",
       "    </tr>\n",
       "    <tr>\n",
       "      <th>5</th>\n",
       "      <td>5</td>\n",
       "      <td>VI</td>\n",
       "      <td>270161</td>\n",
       "    </tr>\n",
       "    <tr>\n",
       "      <th>6</th>\n",
       "      <td>6</td>\n",
       "      <td>VII</td>\n",
       "      <td>1090940</td>\n",
       "    </tr>\n",
       "    <tr>\n",
       "      <th>7</th>\n",
       "      <td>7</td>\n",
       "      <td>VIII</td>\n",
       "      <td>562643</td>\n",
       "    </tr>\n",
       "    <tr>\n",
       "      <th>8</th>\n",
       "      <td>8</td>\n",
       "      <td>IX</td>\n",
       "      <td>439888</td>\n",
       "    </tr>\n",
       "    <tr>\n",
       "      <th>9</th>\n",
       "      <td>9</td>\n",
       "      <td>X</td>\n",
       "      <td>745751</td>\n",
       "    </tr>\n",
       "    <tr>\n",
       "      <th>10</th>\n",
       "      <td>10</td>\n",
       "      <td>XI</td>\n",
       "      <td>666816</td>\n",
       "    </tr>\n",
       "    <tr>\n",
       "      <th>11</th>\n",
       "      <td>11</td>\n",
       "      <td>XII</td>\n",
       "      <td>1078177</td>\n",
       "    </tr>\n",
       "    <tr>\n",
       "      <th>12</th>\n",
       "      <td>12</td>\n",
       "      <td>XIII</td>\n",
       "      <td>924431</td>\n",
       "    </tr>\n",
       "    <tr>\n",
       "      <th>13</th>\n",
       "      <td>13</td>\n",
       "      <td>XIV</td>\n",
       "      <td>784333</td>\n",
       "    </tr>\n",
       "    <tr>\n",
       "      <th>14</th>\n",
       "      <td>14</td>\n",
       "      <td>XV</td>\n",
       "      <td>1091291</td>\n",
       "    </tr>\n",
       "    <tr>\n",
       "      <th>15</th>\n",
       "      <td>15</td>\n",
       "      <td>XVI</td>\n",
       "      <td>948066</td>\n",
       "    </tr>\n",
       "    <tr>\n",
       "      <th>16</th>\n",
       "      <td>16</td>\n",
       "      <td>Mito</td>\n",
       "      <td>85779</td>\n",
       "    </tr>\n",
       "  </tbody>\n",
       "</table>\n",
       "</div>"
      ],
      "text/plain": [
       "    chrom_index chrom   length\n",
       "0             0     I   230218\n",
       "1             1    II   813184\n",
       "2             2   III   316620\n",
       "3             3    IV  1531933\n",
       "4             4     V   576874\n",
       "5             5    VI   270161\n",
       "6             6   VII  1090940\n",
       "7             7  VIII   562643\n",
       "8             8    IX   439888\n",
       "9             9     X   745751\n",
       "10           10    XI   666816\n",
       "11           11   XII  1078177\n",
       "12           12  XIII   924431\n",
       "13           13   XIV   784333\n",
       "14           14    XV  1091291\n",
       "15           15   XVI   948066\n",
       "16           16  Mito    85779"
      ]
     },
     "execution_count": 16,
     "metadata": {},
     "output_type": "execute_result"
    }
   ],
   "source": [
    "## We will get chromosome sizes from a local fasta file.\n",
    "from pyfaidx import Fasta\n",
    "\n",
    "f = Fasta(\"/data/momics/data/S288c.fa\")\n",
    "chrom_lengths = {chrom: len(seq) for chrom, seq in zip(f.keys(), f.values())}\n",
    "\n",
    "mom.ingest_chroms(chrom_lengths, genome_version=\"S288c\")\n",
    "mom.chroms()"
   ]
  },
  {
   "cell_type": "markdown",
   "metadata": {},
   "source": [
    "Once the chromosomes are registered, you can ingest data, e.g. genomic sequence or genomic features, to the repository."
   ]
  },
  {
   "cell_type": "code",
   "execution_count": 9,
   "metadata": {},
   "outputs": [
    {
     "name": "stderr",
     "output_type": "stream",
     "text": [
      "momics :: INFO :: 2024-10-21 09:08:11,417 :: Genome sequence ingested in 47.2602s.\n"
     ]
    },
    {
     "data": {
      "text/html": [
       "<div>\n",
       "<style scoped>\n",
       "    .dataframe tbody tr th:only-of-type {\n",
       "        vertical-align: middle;\n",
       "    }\n",
       "\n",
       "    .dataframe tbody tr th {\n",
       "        vertical-align: top;\n",
       "    }\n",
       "\n",
       "    .dataframe thead th {\n",
       "        text-align: right;\n",
       "    }\n",
       "</style>\n",
       "<table border=\"1\" class=\"dataframe\">\n",
       "  <thead>\n",
       "    <tr style=\"text-align: right;\">\n",
       "      <th></th>\n",
       "      <th>chrom_index</th>\n",
       "      <th>chrom</th>\n",
       "      <th>length</th>\n",
       "      <th>seq</th>\n",
       "    </tr>\n",
       "  </thead>\n",
       "  <tbody>\n",
       "    <tr>\n",
       "      <th>0</th>\n",
       "      <td>0</td>\n",
       "      <td>I</td>\n",
       "      <td>230218</td>\n",
       "      <td>CCACACCACA...TGTGTGTGGG</td>\n",
       "    </tr>\n",
       "    <tr>\n",
       "      <th>1</th>\n",
       "      <td>1</td>\n",
       "      <td>II</td>\n",
       "      <td>813184</td>\n",
       "      <td>AAATAGCCCT...GTGGGTGTGT</td>\n",
       "    </tr>\n",
       "    <tr>\n",
       "      <th>2</th>\n",
       "      <td>2</td>\n",
       "      <td>III</td>\n",
       "      <td>316620</td>\n",
       "      <td>CCCACACACC...GGTGTGTGTG</td>\n",
       "    </tr>\n",
       "    <tr>\n",
       "      <th>3</th>\n",
       "      <td>3</td>\n",
       "      <td>IV</td>\n",
       "      <td>1531933</td>\n",
       "      <td>ACACCACACC...TAGCTTTTGG</td>\n",
       "    </tr>\n",
       "    <tr>\n",
       "      <th>4</th>\n",
       "      <td>4</td>\n",
       "      <td>V</td>\n",
       "      <td>576874</td>\n",
       "      <td>CGTCTCCTCC...TTTTTTTTTT</td>\n",
       "    </tr>\n",
       "    <tr>\n",
       "      <th>5</th>\n",
       "      <td>5</td>\n",
       "      <td>VI</td>\n",
       "      <td>270161</td>\n",
       "      <td>GATCTCGCAA...TGGTGTGTGG</td>\n",
       "    </tr>\n",
       "    <tr>\n",
       "      <th>6</th>\n",
       "      <td>6</td>\n",
       "      <td>VII</td>\n",
       "      <td>1090940</td>\n",
       "      <td>CCACACCCAC...TTTTTTTTTT</td>\n",
       "    </tr>\n",
       "    <tr>\n",
       "      <th>7</th>\n",
       "      <td>7</td>\n",
       "      <td>VIII</td>\n",
       "      <td>562643</td>\n",
       "      <td>CCCACACACA...GTGTGTGTGG</td>\n",
       "    </tr>\n",
       "    <tr>\n",
       "      <th>8</th>\n",
       "      <td>8</td>\n",
       "      <td>IX</td>\n",
       "      <td>439888</td>\n",
       "      <td>CACACACACC...GTGTGTGTGT</td>\n",
       "    </tr>\n",
       "    <tr>\n",
       "      <th>9</th>\n",
       "      <td>9</td>\n",
       "      <td>X</td>\n",
       "      <td>745751</td>\n",
       "      <td>CCCACACACA...GTGTGGGTGT</td>\n",
       "    </tr>\n",
       "    <tr>\n",
       "      <th>10</th>\n",
       "      <td>10</td>\n",
       "      <td>XI</td>\n",
       "      <td>666816</td>\n",
       "      <td>CACCACACCC...GTGTGTGTGT</td>\n",
       "    </tr>\n",
       "    <tr>\n",
       "      <th>11</th>\n",
       "      <td>11</td>\n",
       "      <td>XII</td>\n",
       "      <td>1078177</td>\n",
       "      <td>CACACACACA...AGGGCTATTT</td>\n",
       "    </tr>\n",
       "    <tr>\n",
       "      <th>12</th>\n",
       "      <td>12</td>\n",
       "      <td>XIII</td>\n",
       "      <td>924431</td>\n",
       "      <td>CCACACACAC...GTGTGTGGGG</td>\n",
       "    </tr>\n",
       "    <tr>\n",
       "      <th>13</th>\n",
       "      <td>13</td>\n",
       "      <td>XIV</td>\n",
       "      <td>784333</td>\n",
       "      <td>CCGGCTTTCT...TGGTGTGGGT</td>\n",
       "    </tr>\n",
       "    <tr>\n",
       "      <th>14</th>\n",
       "      <td>14</td>\n",
       "      <td>XV</td>\n",
       "      <td>1091291</td>\n",
       "      <td>ACACCACACC...TGTGGTGTGT</td>\n",
       "    </tr>\n",
       "    <tr>\n",
       "      <th>15</th>\n",
       "      <td>15</td>\n",
       "      <td>XVI</td>\n",
       "      <td>948066</td>\n",
       "      <td>AAATAGCCCT...CGGTCAGAAA</td>\n",
       "    </tr>\n",
       "    <tr>\n",
       "      <th>16</th>\n",
       "      <td>16</td>\n",
       "      <td>Mito</td>\n",
       "      <td>85779</td>\n",
       "      <td>TTCATAATTA...AATATCCATA</td>\n",
       "    </tr>\n",
       "  </tbody>\n",
       "</table>\n",
       "</div>"
      ],
      "text/plain": [
       "    chrom_index chrom   length                      seq\n",
       "0             0     I   230218  CCACACCACA...TGTGTGTGGG\n",
       "1             1    II   813184  AAATAGCCCT...GTGGGTGTGT\n",
       "2             2   III   316620  CCCACACACC...GGTGTGTGTG\n",
       "3             3    IV  1531933  ACACCACACC...TAGCTTTTGG\n",
       "4             4     V   576874  CGTCTCCTCC...TTTTTTTTTT\n",
       "5             5    VI   270161  GATCTCGCAA...TGGTGTGTGG\n",
       "6             6   VII  1090940  CCACACCCAC...TTTTTTTTTT\n",
       "7             7  VIII   562643  CCCACACACA...GTGTGTGTGG\n",
       "8             8    IX   439888  CACACACACC...GTGTGTGTGT\n",
       "9             9     X   745751  CCCACACACA...GTGTGGGTGT\n",
       "10           10    XI   666816  CACCACACCC...GTGTGTGTGT\n",
       "11           11   XII  1078177  CACACACACA...AGGGCTATTT\n",
       "12           12  XIII   924431  CCACACACAC...GTGTGTGGGG\n",
       "13           13   XIV   784333  CCGGCTTTCT...TGGTGTGGGT\n",
       "14           14    XV  1091291  ACACCACACC...TGTGGTGTGT\n",
       "15           15   XVI   948066  AAATAGCCCT...CGGTCAGAAA\n",
       "16           16  Mito    85779  TTCATAATTA...AATATCCATA"
      ]
     },
     "execution_count": 9,
     "metadata": {},
     "output_type": "execute_result"
    }
   ],
   "source": [
    "## Ingesting genome reference sequence\n",
    "mom.ingest_sequence(\"/data/momics/data/S288c.fa\")\n",
    "mom.seq()"
   ]
  },
  {
   "cell_type": "code",
   "execution_count": 10,
   "metadata": {},
   "outputs": [
    {
     "name": "stderr",
     "output_type": "stream",
     "text": [
      "momics :: INFO :: 2024-10-21 09:10:27,371 :: 4 tracks ingested in 132.0506s.\n"
     ]
    },
    {
     "data": {
      "text/html": [
       "<div>\n",
       "<style scoped>\n",
       "    .dataframe tbody tr th:only-of-type {\n",
       "        vertical-align: middle;\n",
       "    }\n",
       "\n",
       "    .dataframe tbody tr th {\n",
       "        vertical-align: top;\n",
       "    }\n",
       "\n",
       "    .dataframe thead th {\n",
       "        text-align: right;\n",
       "    }\n",
       "</style>\n",
       "<table border=\"1\" class=\"dataframe\">\n",
       "  <thead>\n",
       "    <tr style=\"text-align: right;\">\n",
       "      <th></th>\n",
       "      <th>idx</th>\n",
       "      <th>label</th>\n",
       "      <th>path</th>\n",
       "    </tr>\n",
       "  </thead>\n",
       "  <tbody>\n",
       "    <tr>\n",
       "      <th>0</th>\n",
       "      <td>0</td>\n",
       "      <td>atac</td>\n",
       "      <td>/data/momics/S288c_atac.bw</td>\n",
       "    </tr>\n",
       "    <tr>\n",
       "      <th>1</th>\n",
       "      <td>1</td>\n",
       "      <td>rna</td>\n",
       "      <td>/data/momics/S288c_rna.bw</td>\n",
       "    </tr>\n",
       "    <tr>\n",
       "      <th>2</th>\n",
       "      <td>2</td>\n",
       "      <td>scc1</td>\n",
       "      <td>/data/momics/S288c_scc1.bw</td>\n",
       "    </tr>\n",
       "    <tr>\n",
       "      <th>3</th>\n",
       "      <td>3</td>\n",
       "      <td>mnase</td>\n",
       "      <td>/data/momics/S288c_mnase.bw</td>\n",
       "    </tr>\n",
       "  </tbody>\n",
       "</table>\n",
       "</div>"
      ],
      "text/plain": [
       "   idx  label                         path\n",
       "0    0   atac   /data/momics/S288c_atac.bw\n",
       "1    1    rna    /data/momics/S288c_rna.bw\n",
       "2    2   scc1   /data/momics/S288c_scc1.bw\n",
       "3    3  mnase  /data/momics/S288c_mnase.bw"
      ]
     },
     "execution_count": 10,
     "metadata": {},
     "output_type": "execute_result"
    }
   ],
   "source": [
    "## Ingesting genome-wide tracks\n",
    "mom.ingest_tracks(\n",
    "    {\n",
    "        \"atac\": \"/data/momics/data/S288c_atac.bw\",\n",
    "        \"rna\": \"/data/momics/data/S288c_rna.bw\",\n",
    "        \"scc1\": \"/data/momics/data/S288c_scc1.bw\",\n",
    "        \"mnase\": \"/data/momics/data/S288c_mnase.bw\",\n",
    "    }\n",
    ")\n",
    "mom.tracks()"
   ]
  },
  {
   "cell_type": "markdown",
   "metadata": {},
   "source": [
    "## Querying data from the repository\n",
    "\n",
    "Now that we have added data to the repository, we can query specific genomic ranges using `MomicsQuery` objects. "
   ]
  },
  {
   "cell_type": "code",
   "execution_count": 11,
   "metadata": {},
   "outputs": [
    {
     "data": {
      "text/html": [
       "<div>\n",
       "<style scoped>\n",
       "    .dataframe tbody tr th:only-of-type {\n",
       "        vertical-align: middle;\n",
       "    }\n",
       "\n",
       "    .dataframe tbody tr th {\n",
       "        vertical-align: top;\n",
       "    }\n",
       "\n",
       "    .dataframe thead th {\n",
       "        text-align: right;\n",
       "    }\n",
       "</style>\n",
       "<table border=\"1\" class=\"dataframe\">\n",
       "  <thead>\n",
       "    <tr style=\"text-align: right;\">\n",
       "      <th></th>\n",
       "      <th>Chromosome</th>\n",
       "      <th>Start</th>\n",
       "      <th>End</th>\n",
       "    </tr>\n",
       "  </thead>\n",
       "  <tbody>\n",
       "    <tr>\n",
       "      <th>0</th>\n",
       "      <td>I</td>\n",
       "      <td>0</td>\n",
       "      <td>1000</td>\n",
       "    </tr>\n",
       "    <tr>\n",
       "      <th>1</th>\n",
       "      <td>I</td>\n",
       "      <td>1000</td>\n",
       "      <td>2000</td>\n",
       "    </tr>\n",
       "    <tr>\n",
       "      <th>2</th>\n",
       "      <td>I</td>\n",
       "      <td>2000</td>\n",
       "      <td>3000</td>\n",
       "    </tr>\n",
       "    <tr>\n",
       "      <th>3</th>\n",
       "      <td>I</td>\n",
       "      <td>3000</td>\n",
       "      <td>4000</td>\n",
       "    </tr>\n",
       "    <tr>\n",
       "      <th>4</th>\n",
       "      <td>I</td>\n",
       "      <td>4000</td>\n",
       "      <td>5000</td>\n",
       "    </tr>\n",
       "    <tr>\n",
       "      <th>...</th>\n",
       "      <td>...</td>\n",
       "      <td>...</td>\n",
       "      <td>...</td>\n",
       "    </tr>\n",
       "    <tr>\n",
       "      <th>12143</th>\n",
       "      <td>XVI</td>\n",
       "      <td>943000</td>\n",
       "      <td>944000</td>\n",
       "    </tr>\n",
       "    <tr>\n",
       "      <th>12144</th>\n",
       "      <td>XVI</td>\n",
       "      <td>944000</td>\n",
       "      <td>945000</td>\n",
       "    </tr>\n",
       "    <tr>\n",
       "      <th>12145</th>\n",
       "      <td>XVI</td>\n",
       "      <td>945000</td>\n",
       "      <td>946000</td>\n",
       "    </tr>\n",
       "    <tr>\n",
       "      <th>12146</th>\n",
       "      <td>XVI</td>\n",
       "      <td>946000</td>\n",
       "      <td>947000</td>\n",
       "    </tr>\n",
       "    <tr>\n",
       "      <th>12147</th>\n",
       "      <td>XVI</td>\n",
       "      <td>947000</td>\n",
       "      <td>948000</td>\n",
       "    </tr>\n",
       "  </tbody>\n",
       "</table>\n",
       "<p>12148 rows × 3 columns</p>\n",
       "</div>"
      ],
      "text/plain": [
       "+--------------+-----------+-----------+\n",
       "| Chromosome   | Start     | End       |\n",
       "| (category)   | (int64)   | (int64)   |\n",
       "|--------------+-----------+-----------|\n",
       "| I            | 0         | 1000      |\n",
       "| I            | 1000      | 2000      |\n",
       "| I            | 2000      | 3000      |\n",
       "| I            | 3000      | 4000      |\n",
       "| ...          | ...       | ...       |\n",
       "| XVI          | 944000    | 945000    |\n",
       "| XVI          | 945000    | 946000    |\n",
       "| XVI          | 946000    | 947000    |\n",
       "| XVI          | 947000    | 948000    |\n",
       "+--------------+-----------+-----------+\n",
       "Unstranded PyRanges object has 12,148 rows and 3 columns from 17 chromosomes.\n",
       "For printing, the PyRanges was sorted on Chromosome."
      ]
     },
     "execution_count": 11,
     "metadata": {},
     "output_type": "execute_result"
    }
   ],
   "source": [
    "## We define non-overlapping windows of 10kb over the entire S288c genome\n",
    "windows = mom.bins(1000, stride=1000, cut_last_bin_out=True)\n",
    "windows"
   ]
  },
  {
   "cell_type": "code",
   "execution_count": 24,
   "metadata": {},
   "outputs": [
    {
     "name": "stderr",
     "output_type": "stream",
     "text": [
      "momics :: INFO :: 2024-10-21 09:14:01,919 :: Query completed in 38.6298s.\n"
     ]
    },
    {
     "data": {
      "text/plain": [
       "'ATAC coverage over the first range queried: [2.56415 7.25287 7.25287 7.25287 7.25287]...'"
      ]
     },
     "execution_count": 24,
     "metadata": {},
     "output_type": "execute_result"
    }
   ],
   "source": [
    "## Next, we build a query object to query specific tracks from the momics object\n",
    "from momics.query import MomicsQuery\n",
    "\n",
    "q = MomicsQuery(mom, windows)\n",
    "q.query_tracks(tracks=[\"atac\", \"rna\"])\n",
    "\"ATAC coverage over the first range queried: \" + str(q.coverage[\"atac\"][\"I:0-1000\"][0:5]) + \"...\""
   ]
  },
  {
   "cell_type": "code",
   "execution_count": 25,
   "metadata": {},
   "outputs": [
    {
     "name": "stderr",
     "output_type": "stream",
     "text": [
      "momics :: INFO :: 2024-10-21 09:16:24,760 :: Query completed in 36.2156s.\n"
     ]
    },
    {
     "data": {
      "text/plain": [
       "'Genome sequence over the first range queried: CCACACCACA...'"
      ]
     },
     "execution_count": 25,
     "metadata": {},
     "output_type": "execute_result"
    }
   ],
   "source": [
    "## We can also query sequences over the windows\n",
    "q.query_sequence()\n",
    "\"Genome sequence over the first range queried: \" + str(q.seq[\"nucleotide\"][\"I:0-1000\"][0:10]) + \"...\""
   ]
  },
  {
   "cell_type": "markdown",
   "metadata": {},
   "source": [
    "## Extracting data from the repository\n",
    "\n",
    "A `momics` repository can also be used to store and retrieve data. This data can be extracted from the repository and saved to a local file. "
   ]
  },
  {
   "cell_type": "code",
   "execution_count": 26,
   "metadata": {},
   "outputs": [],
   "source": [
    "atac = mom.tracks(label=\"atac\")"
   ]
  },
  {
   "cell_type": "code",
   "execution_count": 28,
   "metadata": {},
   "outputs": [
    {
     "data": {
      "text/plain": [
       "'File exists: True'"
      ]
     },
     "execution_count": 28,
     "metadata": {},
     "output_type": "execute_result"
    }
   ],
   "source": [
    "from momics import utils as mutils\n",
    "\n",
    "path = mutils.dict_to_bigwig(atac, \"extracted_atac_track.bw\")\n",
    "\"File saved to: \" + path.name\n",
    "\"File exists: \" + str(os.path.exists(path))"
   ]
  },
  {
   "cell_type": "markdown",
   "metadata": {},
   "source": [
    "## Deleting a repository \n",
    "\n",
    "To delete a repository, you can use the `remove()` method on the repository object. This will delete the repository and all its contents. Now that this notebook is complete, we can delete the repository :)"
   ]
  },
  {
   "cell_type": "code",
   "execution_count": 29,
   "metadata": {},
   "outputs": [
    {
     "name": "stderr",
     "output_type": "stream",
     "text": [
      "momics :: INFO :: 2024-10-21 09:16:50,603 :: Purged s3://momics/my_repo.mom\n"
     ]
    },
    {
     "data": {
      "text/plain": [
       "True"
      ]
     },
     "execution_count": 29,
     "metadata": {},
     "output_type": "execute_result"
    }
   ],
   "source": [
    "mom.remove()"
   ]
  }
 ],
 "metadata": {
  "kernelspec": {
   "display_name": "momics",
   "language": "python",
   "name": "python3"
  },
  "language_info": {
   "codemirror_mode": {
    "name": "ipython",
    "version": 3
   },
   "file_extension": ".py",
   "mimetype": "text/x-python",
   "name": "python",
   "nbconvert_exporter": "python",
   "pygments_lexer": "ipython3",
   "version": "3.10.16"
  }
 },
 "nbformat": 4,
 "nbformat_minor": 2
}
